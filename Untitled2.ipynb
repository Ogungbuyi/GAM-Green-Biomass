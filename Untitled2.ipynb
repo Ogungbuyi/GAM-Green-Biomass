{
 "cells": [
  {
   "cell_type": "code",
   "execution_count": 11,
   "id": "9b014d36-c651-480b-86b6-eab41f958b58",
   "metadata": {},
   "outputs": [
    {
     "ename": "SyntaxError",
     "evalue": "(unicode error) 'unicodeescape' codec can't decode bytes in position 2-3: truncated \\UXXXXXXXX escape (1473110630.py, line 18)",
     "output_type": "error",
     "traceback": [
      "\u001b[1;36m  Cell \u001b[1;32mIn[11], line 18\u001b[1;36m\u001b[0m\n\u001b[1;33m    file_path = \"C:\\Users\\mgo\\OneDrive - University of Tasmania\\Documents\\Conference\\Science-T-ENVIRONMENT.csv\"\u001b[0m\n\u001b[1;37m                ^\u001b[0m\n\u001b[1;31mSyntaxError\u001b[0m\u001b[1;31m:\u001b[0m (unicode error) 'unicodeescape' codec can't decode bytes in position 2-3: truncated \\UXXXXXXXX escape\n"
     ]
    }
   ],
   "source": [
    "# Creating a DataFrame with the provided statistical metrics and Shapiro-Wilk test results\n",
    "import pandas as pd\n",
    "\n",
    "data = {\n",
    "    \"Index\": [\"EVI - Total Biomass\", \"EVI - Green Biomass\", \"NDVI - Total Biomass\", \"NDVI - Green Biomass\", \"SAVI - Total Biomass\", \"SAVI - Green Biomass\"],\n",
    "    \"R²\": [0.24, 0.24, 0.33, 0.18, 0.22, 0.25],\n",
    "    \"RMSE\": [1.30, 0.61, 1.22, 0.64, 1.32, 0.61],\n",
    "    \"MAE\": [1.09, 0.43, 0.99, 0.44, 1.11, 0.43],\n",
    "    \"Pearson r\": [-0.49, 0.49, -0.58, 0.43, -0.47, 0.50],\n",
    "    \"p-value (Pearson)\": [0.0027, 0.0026, 0.0003, 0.0096, 0.0043, 0.0021],\n",
    "    \"Shapiro-Wilk p-value (Index)\": [0.0126, 0.0139, 0.0006, 0.0008, 0.0175, 0.0212],\n",
    "    \"Shapiro-Wilk p-value (Biomass/Green)\": [0.2090, 0.0001, 0.2090, 0.0001, 0.2090, 0.0001]\n",
    "}\n",
    "\n",
    "df_metrics = pd.DataFrame(data)\n",
    "\n",
    "# Save the DataFrame to a CSV file\n",
    "file_path = \"C:\\Users\\mgo\\OneDrive - University of Tasmania\\Documents\\Conference\\Science-T-ENVIRONMENT.csv\"\n",
    "df_metrics.to_csv(file_path, index=False)\n",
    "\n",
    "# Provide the file path for download\n",
    "C:\\Users\\mgo\\OneDrive - University of Tasmania\\Documents\\Conference\\Science-T-ENVIRONMENT\n"
   ]
  },
  {
   "cell_type": "code",
   "execution_count": null,
   "id": "094615aa-becc-4d6a-9c89-da58d49647c0",
   "metadata": {},
   "outputs": [],
   "source": []
  }
 ],
 "metadata": {
  "kernelspec": {
   "display_name": "Python 3 (ipykernel)",
   "language": "python",
   "name": "python3"
  },
  "language_info": {
   "codemirror_mode": {
    "name": "ipython",
    "version": 3
   },
   "file_extension": ".py",
   "mimetype": "text/x-python",
   "name": "python",
   "nbconvert_exporter": "python",
   "pygments_lexer": "ipython3",
   "version": "3.12.3"
  }
 },
 "nbformat": 4,
 "nbformat_minor": 5
}
