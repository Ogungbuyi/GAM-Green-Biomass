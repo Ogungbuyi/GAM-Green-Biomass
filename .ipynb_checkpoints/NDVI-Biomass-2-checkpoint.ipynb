{
 "cells": [
  {
   "cell_type": "code",
   "execution_count": 1,
   "id": "21da8079",
   "metadata": {},
   "outputs": [
    {
     "data": {
      "text/html": [
       "<div>\n",
       "<style scoped>\n",
       "    .dataframe tbody tr th:only-of-type {\n",
       "        vertical-align: middle;\n",
       "    }\n",
       "\n",
       "    .dataframe tbody tr th {\n",
       "        vertical-align: top;\n",
       "    }\n",
       "\n",
       "    .dataframe thead th {\n",
       "        text-align: right;\n",
       "    }\n",
       "</style>\n",
       "<table border=\"1\" class=\"dataframe\">\n",
       "  <thead>\n",
       "    <tr style=\"text-align: right;\">\n",
       "      <th></th>\n",
       "      <th>Biomass</th>\n",
       "      <th>NDVI</th>\n",
       "    </tr>\n",
       "  </thead>\n",
       "  <tbody>\n",
       "    <tr>\n",
       "      <th>0</th>\n",
       "      <td>5199</td>\n",
       "      <td>0.855386</td>\n",
       "    </tr>\n",
       "    <tr>\n",
       "      <th>1</th>\n",
       "      <td>4607</td>\n",
       "      <td>0.599413</td>\n",
       "    </tr>\n",
       "    <tr>\n",
       "      <th>2</th>\n",
       "      <td>5280</td>\n",
       "      <td>0.432825</td>\n",
       "    </tr>\n",
       "    <tr>\n",
       "      <th>3</th>\n",
       "      <td>4411</td>\n",
       "      <td>0.466463</td>\n",
       "    </tr>\n",
       "    <tr>\n",
       "      <th>4</th>\n",
       "      <td>7013</td>\n",
       "      <td>0.514720</td>\n",
       "    </tr>\n",
       "  </tbody>\n",
       "</table>\n",
       "</div>"
      ],
      "text/plain": [
       "   Biomass      NDVI\n",
       "0     5199  0.855386\n",
       "1     4607  0.599413\n",
       "2     5280  0.432825\n",
       "3     4411  0.466463\n",
       "4     7013  0.514720"
      ]
     },
     "execution_count": 1,
     "metadata": {},
     "output_type": "execute_result"
    }
   ],
   "source": [
    "import pandas as pd\n",
    "import seaborn as sns\n",
    "import matplotlib.pyplot as plt\n",
    "from sklearn.metrics import r2_score, mean_squared_error, mean_absolute_error\n",
    "from sklearn.linear_model import LinearRegression\n",
    "\n",
    "from scipy.stats import pearsonr\n",
    "import numpy as np\n",
    "\n",
    "data = pd.read_csv(\"NDVI-Biomass-2.csv\")\n",
    "data.head(5)"
   ]
  },
  {
   "cell_type": "code",
   "execution_count": 2,
   "id": "1d979e89",
   "metadata": {},
   "outputs": [
    {
     "name": "stderr",
     "output_type": "stream",
     "text": [
      "No artists with labels found to put in legend.  Note that artists whose label start with an underscore are ignored when legend() is called with no argument.\n"
     ]
    },
    {
     "data": {
      "image/png": "[encoded data removed]",
      "text/plain": [
       "<Figure size 700x700 with 1 Axes>"
      ]
     },
     "metadata": {},
     "output_type": "display_data"
    }
   ],
   "source": [
    "\n",
    "# Perform Linear Regression\n",
    "x = data['NDVI'].values.reshape(-1, 1)\n",
    "y = data['Biomass'].values\n",
    "model = LinearRegression().fit(x, y)\n",
    "\n",
    "# Predict the Biomass using the model for the line\n",
    "predictions = model.predict(x)\n",
    "\n",
    "# Calculate R squared\n",
    "r_squared = model.score(x, y)\n",
    "\n",
    "# Create the scatter plot, ensuring that the 'Biomass' data is divided by 1000\n",
    "fig, ax = plt.subplots(figsize=[7, 7])\n",
    "sns.scatterplot(x='NDVI', y=data['Biomass'] / 1000, data=data, ax=ax)\n",
    "\n",
    "# Plot the regression line\n",
    "ax.plot(data['NDVI'], predictions / 1000, color='red')\n",
    "\n",
    "# Set the axis labels\n",
    "ax.set_xlabel('NDVI')\n",
    "ax.set_ylabel('Biomass (kg DM/ha x 10³)')  # Using 'x' for multiplication symbol\n",
    "\n",
    "# Set x and y limits\n",
    "ax.set_xlim([0, 1])\n",
    "ax.set_ylim([0, max(data['Biomass']) / 1000])\n",
    "\n",
    "# Add text with only the R squared value\n",
    "ax.text(0.01, max(data['Biomass']) / 1000 * 0.95, f'R² = {r_squared:.2f}', fontsize=11,\n",
    "        verticalalignment='top', horizontalalignment='left')\n",
    "\n",
    "# Remove the legend if it's not needed\n",
    "ax.legend().remove()\n",
    "#ax.set_ylim([0, (max(data['Biomass']) / 1000) + 1])\n",
    "\n",
    "plt.show()\n"
   ]
  },
  {
   "cell_type": "code",
   "execution_count": null,
   "id": "3784d2ae",
   "metadata": {},
   "outputs": [],
   "source": []
  }
 ],
 "metadata": {
  "kernelspec": {
   "display_name": "Python 3 (ipykernel)",
   "language": "python",
   "name": "python3"
  },
  "language_info": {
   "codemirror_mode": {
    "name": "ipython",
    "version": 3
   },
   "file_extension": ".py",
   "mimetype": "text/x-python",
   "name": "python",
   "nbconvert_exporter": "python",
   "pygments_lexer": "ipython3",
   "version": "3.8.16"
  }
 },
 "nbformat": 4,
 "nbformat_minor": 5
}
