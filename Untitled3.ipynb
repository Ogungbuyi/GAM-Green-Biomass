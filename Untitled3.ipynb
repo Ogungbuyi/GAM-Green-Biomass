{
 "cells": [
  {
   "cell_type": "code",
   "execution_count": 1,
   "id": "8f2af086-1a11-48ad-957a-3d29a78d8a3a",
   "metadata": {},
   "outputs": [
    {
     "ename": "ModuleNotFoundError",
     "evalue": "No module named 'ace_tools'",
     "output_type": "error",
     "traceback": [
      "\u001b[1;31m---------------------------------------------------------------------------\u001b[0m",
      "\u001b[1;31mModuleNotFoundError\u001b[0m                       Traceback (most recent call last)",
      "Cell \u001b[1;32mIn[1], line 2\u001b[0m\n\u001b[0;32m      1\u001b[0m \u001b[38;5;28;01mimport\u001b[39;00m \u001b[38;5;21;01mpandas\u001b[39;00m \u001b[38;5;28;01mas\u001b[39;00m \u001b[38;5;21;01mpd\u001b[39;00m\n\u001b[1;32m----> 2\u001b[0m \u001b[38;5;28;01mimport\u001b[39;00m \u001b[38;5;21;01mace_tools\u001b[39;00m \u001b[38;5;28;01mas\u001b[39;00m \u001b[38;5;21;01mtools\u001b[39;00m\n\u001b[0;32m      4\u001b[0m \u001b[38;5;66;03m# Creating a DataFrame with the actual statistical metrics from the six plots\u001b[39;00m\n\u001b[0;32m      5\u001b[0m data \u001b[38;5;241m=\u001b[39m {\n\u001b[0;32m      6\u001b[0m     \u001b[38;5;124m\"\u001b[39m\u001b[38;5;124mIndex\u001b[39m\u001b[38;5;124m\"\u001b[39m: [\u001b[38;5;124m\"\u001b[39m\u001b[38;5;124mEVI - Total Biomass\u001b[39m\u001b[38;5;124m\"\u001b[39m, \u001b[38;5;124m\"\u001b[39m\u001b[38;5;124mEVI - Green Biomass\u001b[39m\u001b[38;5;124m\"\u001b[39m, \u001b[38;5;124m\"\u001b[39m\u001b[38;5;124mNDVI - Total Biomass\u001b[39m\u001b[38;5;124m\"\u001b[39m, \u001b[38;5;124m\"\u001b[39m\u001b[38;5;124mNDVI - Green Biomass\u001b[39m\u001b[38;5;124m\"\u001b[39m, \u001b[38;5;124m\"\u001b[39m\u001b[38;5;124mSAVI - Total Biomass\u001b[39m\u001b[38;5;124m\"\u001b[39m, \u001b[38;5;124m\"\u001b[39m\u001b[38;5;124mSAVI - Green Biomass\u001b[39m\u001b[38;5;124m\"\u001b[39m],\n\u001b[0;32m      7\u001b[0m     \u001b[38;5;124m\"\u001b[39m\u001b[38;5;124mR² (Linear)\u001b[39m\u001b[38;5;124m\"\u001b[39m: [\u001b[38;5;241m0.24\u001b[39m, \u001b[38;5;241m0.24\u001b[39m, \u001b[38;5;241m0.33\u001b[39m, \u001b[38;5;241m0.18\u001b[39m, \u001b[38;5;241m0.22\u001b[39m, \u001b[38;5;241m0.25\u001b[39m],\n\u001b[1;32m   (...)\u001b[0m\n\u001b[0;32m     12\u001b[0m     \u001b[38;5;124m\"\u001b[39m\u001b[38;5;124mMAE (GAM)\u001b[39m\u001b[38;5;124m\"\u001b[39m: [\u001b[38;5;241m997.68\u001b[39m, \u001b[38;5;241m361.22\u001b[39m, \u001b[38;5;241m871.83\u001b[39m, \u001b[38;5;241m384.29\u001b[39m, \u001b[38;5;241m989.09\u001b[39m, \u001b[38;5;241m328.62\u001b[39m],\n\u001b[0;32m     13\u001b[0m }\n",
      "\u001b[1;31mModuleNotFoundError\u001b[0m: No module named 'ace_tools'"
     ]
    }
   ],
   "source": [
    "import pandas as pd\n",
    "import ace_tools as tools\n",
    "\n",
    "# Creating a DataFrame with the actual statistical metrics from the six plots\n",
    "data = {\n",
    "    \"Index\": [\"EVI - Total Biomass\", \"EVI - Green Biomass\", \"NDVI - Total Biomass\", \"NDVI - Green Biomass\", \"SAVI - Total Biomass\", \"SAVI - Green Biomass\"],\n",
    "    \"R² (Linear)\": [0.24, 0.24, 0.33, 0.18, 0.22, 0.25],\n",
    "    \"RMSE (Linear)\": [1299.21, 612.81, 1218.40, 635.05, 1316.94, 609.16],\n",
    "    \"MAE (Linear)\": [1087.44, 428.56, 993.33, 438.17, 1105.62, 428.97],\n",
    "    \"R² (GAM)\": [0.35, 0.46, 0.43, 0.36, 0.33, 0.52],\n",
    "    \"RMSE (GAM)\": [1203.87, 513.79, 1123.81, 559.92, 1217.32, 487.24],\n",
    "    \"MAE (GAM)\": [997.68, 361.22, 871.83, 384.29, 989.09, 328.62],\n",
    "}\n",
    "\n",
    "# Creating a DataFrame\n",
    "df = pd.DataFrame(data)\n",
    "\n",
    "# Display the table to the user\n",
    "tools.display_dataframe_to_user(name=\"Actual Linear Regression vs GAM Model Performance\", dataframe=df)\n"
   ]
  },
  {
   "cell_type": "code",
   "execution_count": null,
   "id": "a2faf56f-c4c6-435f-b0ae-e966a38131d0",
   "metadata": {},
   "outputs": [],
   "source": []
  }
 ],
 "metadata": {
  "kernelspec": {
   "display_name": "Python 3 (ipykernel)",
   "language": "python",
   "name": "python3"
  },
  "language_info": {
   "codemirror_mode": {
    "name": "ipython",
    "version": 3
   },
   "file_extension": ".py",
   "mimetype": "text/x-python",
   "name": "python",
   "nbconvert_exporter": "python",
   "pygments_lexer": "ipython3",
   "version": "3.12.3"
  }
 },
 "nbformat": 4,
 "nbformat_minor": 5
}
